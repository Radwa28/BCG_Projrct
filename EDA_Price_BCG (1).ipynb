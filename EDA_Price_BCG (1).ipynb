{
  "cells": [
    {
      "cell_type": "markdown",
      "metadata": {
        "id": "5iWPpu_f_BHQ"
      },
      "source": [
        "### Client Data"
      ]
    },
    {
      "cell_type": "code",
      "execution_count": null,
      "metadata": {
        "id": "NlZ-mP_asLjP"
      },
      "outputs": [],
      "source": [
        "import pandas as pd \n",
        "import numpy as np\n",
        "import matplotlib.pyplot as plt\n",
        "import seaborn as sns\n",
        "import missingno as msno"
      ]
    },
    {
      "cell_type": "markdown",
      "metadata": {
        "id": "4IIzkr3_Sg3l"
      },
      "source": [
        "### price_data"
      ]
    },
    {
      "cell_type": "code",
      "execution_count": null,
      "metadata": {
        "id": "wVwnp2a-SjZ4"
      },
      "outputs": [],
      "source": [
        "df_pr=pd.read_csv('/content/price_data.csv')"
      ]
    },
    {
      "cell_type": "code",
      "execution_count": null,
      "metadata": {
        "colab": {
          "base_uri": "https://localhost:8080/"
        },
        "id": "YL3ES_2nxRCA",
        "outputId": "ded0d341-a9fb-41de-fe6e-c11ee2813ab5"
      },
      "outputs": [
        {
          "data": {
            "text/plain": [
              "(193002, 8)"
            ]
          },
          "execution_count": 40,
          "metadata": {},
          "output_type": "execute_result"
        }
      ],
      "source": [
        "df_pr.shape"
      ]
    },
    {
      "cell_type": "code",
      "execution_count": null,
      "metadata": {
        "colab": {
          "base_uri": "https://localhost:8080/",
          "height": 206
        },
        "id": "RsmsafjeywI9",
        "outputId": "f1b149a4-9c22-4455-b030-5128e4f76670"
      },
      "outputs": [
        {
          "data": {
            "text/html": [
              "\n",
              "  <div id=\"df-704dd2b5-a3d3-4649-b281-9d3aa2303d60\">\n",
              "    <div class=\"colab-df-container\">\n",
              "      <div>\n",
              "<style scoped>\n",
              "    .dataframe tbody tr th:only-of-type {\n",
              "        vertical-align: middle;\n",
              "    }\n",
              "\n",
              "    .dataframe tbody tr th {\n",
              "        vertical-align: top;\n",
              "    }\n",
              "\n",
              "    .dataframe thead th {\n",
              "        text-align: right;\n",
              "    }\n",
              "</style>\n",
              "<table border=\"1\" class=\"dataframe\">\n",
              "  <thead>\n",
              "    <tr style=\"text-align: right;\">\n",
              "      <th></th>\n",
              "      <th>id</th>\n",
              "      <th>price_date</th>\n",
              "      <th>price_off_peak_var</th>\n",
              "      <th>price_peak_var</th>\n",
              "      <th>price_mid_peak_var</th>\n",
              "      <th>price_off_peak_fix</th>\n",
              "      <th>price_peak_fix</th>\n",
              "      <th>price_mid_peak_fix</th>\n",
              "    </tr>\n",
              "  </thead>\n",
              "  <tbody>\n",
              "    <tr>\n",
              "      <th>0</th>\n",
              "      <td>038af19179925da21a25619c5a24b745</td>\n",
              "      <td>1/1/2015</td>\n",
              "      <td>0.151367</td>\n",
              "      <td>0.0</td>\n",
              "      <td>0.0</td>\n",
              "      <td>44.266931</td>\n",
              "      <td>0.0</td>\n",
              "      <td>0.0</td>\n",
              "    </tr>\n",
              "    <tr>\n",
              "      <th>1</th>\n",
              "      <td>038af19179925da21a25619c5a24b745</td>\n",
              "      <td>2/1/2015</td>\n",
              "      <td>0.151367</td>\n",
              "      <td>0.0</td>\n",
              "      <td>0.0</td>\n",
              "      <td>44.266931</td>\n",
              "      <td>0.0</td>\n",
              "      <td>0.0</td>\n",
              "    </tr>\n",
              "    <tr>\n",
              "      <th>2</th>\n",
              "      <td>038af19179925da21a25619c5a24b745</td>\n",
              "      <td>3/1/2015</td>\n",
              "      <td>0.151367</td>\n",
              "      <td>0.0</td>\n",
              "      <td>0.0</td>\n",
              "      <td>44.266931</td>\n",
              "      <td>0.0</td>\n",
              "      <td>0.0</td>\n",
              "    </tr>\n",
              "    <tr>\n",
              "      <th>3</th>\n",
              "      <td>038af19179925da21a25619c5a24b745</td>\n",
              "      <td>4/1/2015</td>\n",
              "      <td>0.149626</td>\n",
              "      <td>0.0</td>\n",
              "      <td>0.0</td>\n",
              "      <td>44.266931</td>\n",
              "      <td>0.0</td>\n",
              "      <td>0.0</td>\n",
              "    </tr>\n",
              "    <tr>\n",
              "      <th>4</th>\n",
              "      <td>038af19179925da21a25619c5a24b745</td>\n",
              "      <td>5/1/2015</td>\n",
              "      <td>0.149626</td>\n",
              "      <td>0.0</td>\n",
              "      <td>0.0</td>\n",
              "      <td>44.266931</td>\n",
              "      <td>0.0</td>\n",
              "      <td>0.0</td>\n",
              "    </tr>\n",
              "  </tbody>\n",
              "</table>\n",
              "</div>\n",
              "      <button class=\"colab-df-convert\" onclick=\"convertToInteractive('df-704dd2b5-a3d3-4649-b281-9d3aa2303d60')\"\n",
              "              title=\"Convert this dataframe to an interactive table.\"\n",
              "              style=\"display:none;\">\n",
              "        \n",
              "  <svg xmlns=\"http://www.w3.org/2000/svg\" height=\"24px\"viewBox=\"0 0 24 24\"\n",
              "       width=\"24px\">\n",
              "    <path d=\"M0 0h24v24H0V0z\" fill=\"none\"/>\n",
              "    <path d=\"M18.56 5.44l.94 2.06.94-2.06 2.06-.94-2.06-.94-.94-2.06-.94 2.06-2.06.94zm-11 1L8.5 8.5l.94-2.06 2.06-.94-2.06-.94L8.5 2.5l-.94 2.06-2.06.94zm10 10l.94 2.06.94-2.06 2.06-.94-2.06-.94-.94-2.06-.94 2.06-2.06.94z\"/><path d=\"M17.41 7.96l-1.37-1.37c-.4-.4-.92-.59-1.43-.59-.52 0-1.04.2-1.43.59L10.3 9.45l-7.72 7.72c-.78.78-.78 2.05 0 2.83L4 21.41c.39.39.9.59 1.41.59.51 0 1.02-.2 1.41-.59l7.78-7.78 2.81-2.81c.8-.78.8-2.07 0-2.86zM5.41 20L4 18.59l7.72-7.72 1.47 1.35L5.41 20z\"/>\n",
              "  </svg>\n",
              "      </button>\n",
              "      \n",
              "  <style>\n",
              "    .colab-df-container {\n",
              "      display:flex;\n",
              "      flex-wrap:wrap;\n",
              "      gap: 12px;\n",
              "    }\n",
              "\n",
              "    .colab-df-convert {\n",
              "      background-color: #E8F0FE;\n",
              "      border: none;\n",
              "      border-radius: 50%;\n",
              "      cursor: pointer;\n",
              "      display: none;\n",
              "      fill: #1967D2;\n",
              "      height: 32px;\n",
              "      padding: 0 0 0 0;\n",
              "      width: 32px;\n",
              "    }\n",
              "\n",
              "    .colab-df-convert:hover {\n",
              "      background-color: #E2EBFA;\n",
              "      box-shadow: 0px 1px 2px rgba(60, 64, 67, 0.3), 0px 1px 3px 1px rgba(60, 64, 67, 0.15);\n",
              "      fill: #174EA6;\n",
              "    }\n",
              "\n",
              "    [theme=dark] .colab-df-convert {\n",
              "      background-color: #3B4455;\n",
              "      fill: #D2E3FC;\n",
              "    }\n",
              "\n",
              "    [theme=dark] .colab-df-convert:hover {\n",
              "      background-color: #434B5C;\n",
              "      box-shadow: 0px 1px 3px 1px rgba(0, 0, 0, 0.15);\n",
              "      filter: drop-shadow(0px 1px 2px rgba(0, 0, 0, 0.3));\n",
              "      fill: #FFFFFF;\n",
              "    }\n",
              "  </style>\n",
              "\n",
              "      <script>\n",
              "        const buttonEl =\n",
              "          document.querySelector('#df-704dd2b5-a3d3-4649-b281-9d3aa2303d60 button.colab-df-convert');\n",
              "        buttonEl.style.display =\n",
              "          google.colab.kernel.accessAllowed ? 'block' : 'none';\n",
              "\n",
              "        async function convertToInteractive(key) {\n",
              "          const element = document.querySelector('#df-704dd2b5-a3d3-4649-b281-9d3aa2303d60');\n",
              "          const dataTable =\n",
              "            await google.colab.kernel.invokeFunction('convertToInteractive',\n",
              "                                                     [key], {});\n",
              "          if (!dataTable) return;\n",
              "\n",
              "          const docLinkHtml = 'Like what you see? Visit the ' +\n",
              "            '<a target=\"_blank\" href=https://colab.research.google.com/notebooks/data_table.ipynb>data table notebook</a>'\n",
              "            + ' to learn more about interactive tables.';\n",
              "          element.innerHTML = '';\n",
              "          dataTable['output_type'] = 'display_data';\n",
              "          await google.colab.output.renderOutput(dataTable, element);\n",
              "          const docLink = document.createElement('div');\n",
              "          docLink.innerHTML = docLinkHtml;\n",
              "          element.appendChild(docLink);\n",
              "        }\n",
              "      </script>\n",
              "    </div>\n",
              "  </div>\n",
              "  "
            ],
            "text/plain": [
              "                                 id price_date  price_off_peak_var  \\\n",
              "0  038af19179925da21a25619c5a24b745   1/1/2015            0.151367   \n",
              "1  038af19179925da21a25619c5a24b745   2/1/2015            0.151367   \n",
              "2  038af19179925da21a25619c5a24b745   3/1/2015            0.151367   \n",
              "3  038af19179925da21a25619c5a24b745   4/1/2015            0.149626   \n",
              "4  038af19179925da21a25619c5a24b745   5/1/2015            0.149626   \n",
              "\n",
              "   price_peak_var  price_mid_peak_var  price_off_peak_fix  price_peak_fix  \\\n",
              "0             0.0                 0.0           44.266931             0.0   \n",
              "1             0.0                 0.0           44.266931             0.0   \n",
              "2             0.0                 0.0           44.266931             0.0   \n",
              "3             0.0                 0.0           44.266931             0.0   \n",
              "4             0.0                 0.0           44.266931             0.0   \n",
              "\n",
              "   price_mid_peak_fix  \n",
              "0                 0.0  \n",
              "1                 0.0  \n",
              "2                 0.0  \n",
              "3                 0.0  \n",
              "4                 0.0  "
            ]
          },
          "execution_count": 48,
          "metadata": {},
          "output_type": "execute_result"
        }
      ],
      "source": [
        "df_pr.head()"
      ]
    },
    {
      "cell_type": "code",
      "execution_count": null,
      "metadata": {
        "colab": {
          "base_uri": "https://localhost:8080/",
          "height": 394
        },
        "id": "CNFG5YxpxaM7",
        "outputId": "e5c5264a-6811-42e6-907c-f07de7d81138"
      },
      "outputs": [
        {
          "data": {
            "text/html": [
              "<style type=\"text/css\">\n",
              "#T_a7ca6_row0_col2, #T_a7ca6_row0_col3, #T_a7ca6_row0_col4, #T_a7ca6_row0_col5, #T_a7ca6_row0_col6, #T_a7ca6_row0_col7 {\n",
              "  background-color: #800026;\n",
              "  color: #f1f1f1;\n",
              "}\n",
              "#T_a7ca6_row1_col2, #T_a7ca6_row1_col3, #T_a7ca6_row1_col4, #T_a7ca6_row1_col5, #T_a7ca6_row1_col6, #T_a7ca6_row1_col7, #T_a7ca6_row2_col2, #T_a7ca6_row2_col3, #T_a7ca6_row2_col4, #T_a7ca6_row2_col5, #T_a7ca6_row2_col6, #T_a7ca6_row2_col7, #T_a7ca6_row3_col2, #T_a7ca6_row3_col3, #T_a7ca6_row3_col4, #T_a7ca6_row3_col5, #T_a7ca6_row3_col6, #T_a7ca6_row3_col7 {\n",
              "  background-color: #000000;\n",
              "  color: #f1f1f1;\n",
              "}\n",
              "#T_a7ca6_row4_col2, #T_a7ca6_row4_col3, #T_a7ca6_row4_col4, #T_a7ca6_row4_col5, #T_a7ca6_row4_col6, #T_a7ca6_row4_col7, #T_a7ca6_row5_col2, #T_a7ca6_row5_col3, #T_a7ca6_row5_col4, #T_a7ca6_row5_col5, #T_a7ca6_row5_col6, #T_a7ca6_row5_col7, #T_a7ca6_row6_col2, #T_a7ca6_row6_col3, #T_a7ca6_row6_col4, #T_a7ca6_row6_col5, #T_a7ca6_row6_col6, #T_a7ca6_row6_col7, #T_a7ca6_row7_col2, #T_a7ca6_row7_col3, #T_a7ca6_row7_col4, #T_a7ca6_row7_col5, #T_a7ca6_row7_col6, #T_a7ca6_row7_col7, #T_a7ca6_row8_col2, #T_a7ca6_row8_col3, #T_a7ca6_row8_col4, #T_a7ca6_row8_col5, #T_a7ca6_row8_col6, #T_a7ca6_row8_col7, #T_a7ca6_row9_col2, #T_a7ca6_row9_col3, #T_a7ca6_row9_col4, #T_a7ca6_row9_col5, #T_a7ca6_row9_col6, #T_a7ca6_row9_col7, #T_a7ca6_row10_col2, #T_a7ca6_row10_col3, #T_a7ca6_row10_col4, #T_a7ca6_row10_col5, #T_a7ca6_row10_col6, #T_a7ca6_row10_col7 {\n",
              "  background-color: #ffffcc;\n",
              "  color: #000000;\n",
              "}\n",
              "</style>\n",
              "<table id=\"T_a7ca6_\" class=\"dataframe\">\n",
              "  <thead>\n",
              "    <tr>\n",
              "      <th class=\"blank level0\" >&nbsp;</th>\n",
              "      <th class=\"col_heading level0 col0\" >id</th>\n",
              "      <th class=\"col_heading level0 col1\" >price_date</th>\n",
              "      <th class=\"col_heading level0 col2\" >price_off_peak_var</th>\n",
              "      <th class=\"col_heading level0 col3\" >price_peak_var</th>\n",
              "      <th class=\"col_heading level0 col4\" >price_mid_peak_var</th>\n",
              "      <th class=\"col_heading level0 col5\" >price_off_peak_fix</th>\n",
              "      <th class=\"col_heading level0 col6\" >price_peak_fix</th>\n",
              "      <th class=\"col_heading level0 col7\" >price_mid_peak_fix</th>\n",
              "    </tr>\n",
              "  </thead>\n",
              "  <tbody>\n",
              "    <tr>\n",
              "      <th id=\"T_a7ca6_level0_row0\" class=\"row_heading level0 row0\" >count</th>\n",
              "      <td id=\"T_a7ca6_row0_col0\" class=\"data row0 col0\" >193002</td>\n",
              "      <td id=\"T_a7ca6_row0_col1\" class=\"data row0 col1\" >193002</td>\n",
              "      <td id=\"T_a7ca6_row0_col2\" class=\"data row0 col2\" >193002.000000</td>\n",
              "      <td id=\"T_a7ca6_row0_col3\" class=\"data row0 col3\" >193002.000000</td>\n",
              "      <td id=\"T_a7ca6_row0_col4\" class=\"data row0 col4\" >193002.000000</td>\n",
              "      <td id=\"T_a7ca6_row0_col5\" class=\"data row0 col5\" >193002.000000</td>\n",
              "      <td id=\"T_a7ca6_row0_col6\" class=\"data row0 col6\" >193002.000000</td>\n",
              "      <td id=\"T_a7ca6_row0_col7\" class=\"data row0 col7\" >193002.000000</td>\n",
              "    </tr>\n",
              "    <tr>\n",
              "      <th id=\"T_a7ca6_level0_row1\" class=\"row_heading level0 row1\" >unique</th>\n",
              "      <td id=\"T_a7ca6_row1_col0\" class=\"data row1 col0\" >16096</td>\n",
              "      <td id=\"T_a7ca6_row1_col1\" class=\"data row1 col1\" >12</td>\n",
              "      <td id=\"T_a7ca6_row1_col2\" class=\"data row1 col2\" >nan</td>\n",
              "      <td id=\"T_a7ca6_row1_col3\" class=\"data row1 col3\" >nan</td>\n",
              "      <td id=\"T_a7ca6_row1_col4\" class=\"data row1 col4\" >nan</td>\n",
              "      <td id=\"T_a7ca6_row1_col5\" class=\"data row1 col5\" >nan</td>\n",
              "      <td id=\"T_a7ca6_row1_col6\" class=\"data row1 col6\" >nan</td>\n",
              "      <td id=\"T_a7ca6_row1_col7\" class=\"data row1 col7\" >nan</td>\n",
              "    </tr>\n",
              "    <tr>\n",
              "      <th id=\"T_a7ca6_level0_row2\" class=\"row_heading level0 row2\" >top</th>\n",
              "      <td id=\"T_a7ca6_row2_col0\" class=\"data row2 col0\" >038af19179925da21a25619c5a24b745</td>\n",
              "      <td id=\"T_a7ca6_row2_col1\" class=\"data row2 col1\" >8/1/2015</td>\n",
              "      <td id=\"T_a7ca6_row2_col2\" class=\"data row2 col2\" >nan</td>\n",
              "      <td id=\"T_a7ca6_row2_col3\" class=\"data row2 col3\" >nan</td>\n",
              "      <td id=\"T_a7ca6_row2_col4\" class=\"data row2 col4\" >nan</td>\n",
              "      <td id=\"T_a7ca6_row2_col5\" class=\"data row2 col5\" >nan</td>\n",
              "      <td id=\"T_a7ca6_row2_col6\" class=\"data row2 col6\" >nan</td>\n",
              "      <td id=\"T_a7ca6_row2_col7\" class=\"data row2 col7\" >nan</td>\n",
              "    </tr>\n",
              "    <tr>\n",
              "      <th id=\"T_a7ca6_level0_row3\" class=\"row_heading level0 row3\" >freq</th>\n",
              "      <td id=\"T_a7ca6_row3_col0\" class=\"data row3 col0\" >12</td>\n",
              "      <td id=\"T_a7ca6_row3_col1\" class=\"data row3 col1\" >16094</td>\n",
              "      <td id=\"T_a7ca6_row3_col2\" class=\"data row3 col2\" >nan</td>\n",
              "      <td id=\"T_a7ca6_row3_col3\" class=\"data row3 col3\" >nan</td>\n",
              "      <td id=\"T_a7ca6_row3_col4\" class=\"data row3 col4\" >nan</td>\n",
              "      <td id=\"T_a7ca6_row3_col5\" class=\"data row3 col5\" >nan</td>\n",
              "      <td id=\"T_a7ca6_row3_col6\" class=\"data row3 col6\" >nan</td>\n",
              "      <td id=\"T_a7ca6_row3_col7\" class=\"data row3 col7\" >nan</td>\n",
              "    </tr>\n",
              "    <tr>\n",
              "      <th id=\"T_a7ca6_level0_row4\" class=\"row_heading level0 row4\" >mean</th>\n",
              "      <td id=\"T_a7ca6_row4_col0\" class=\"data row4 col0\" >nan</td>\n",
              "      <td id=\"T_a7ca6_row4_col1\" class=\"data row4 col1\" >nan</td>\n",
              "      <td id=\"T_a7ca6_row4_col2\" class=\"data row4 col2\" >0.141027</td>\n",
              "      <td id=\"T_a7ca6_row4_col3\" class=\"data row4 col3\" >0.054630</td>\n",
              "      <td id=\"T_a7ca6_row4_col4\" class=\"data row4 col4\" >0.030496</td>\n",
              "      <td id=\"T_a7ca6_row4_col5\" class=\"data row4 col5\" >43.334477</td>\n",
              "      <td id=\"T_a7ca6_row4_col6\" class=\"data row4 col6\" >10.622875</td>\n",
              "      <td id=\"T_a7ca6_row4_col7\" class=\"data row4 col7\" >6.409984</td>\n",
              "    </tr>\n",
              "    <tr>\n",
              "      <th id=\"T_a7ca6_level0_row5\" class=\"row_heading level0 row5\" >std</th>\n",
              "      <td id=\"T_a7ca6_row5_col0\" class=\"data row5 col0\" >nan</td>\n",
              "      <td id=\"T_a7ca6_row5_col1\" class=\"data row5 col1\" >nan</td>\n",
              "      <td id=\"T_a7ca6_row5_col2\" class=\"data row5 col2\" >0.025032</td>\n",
              "      <td id=\"T_a7ca6_row5_col3\" class=\"data row5 col3\" >0.049924</td>\n",
              "      <td id=\"T_a7ca6_row5_col4\" class=\"data row5 col4\" >0.036298</td>\n",
              "      <td id=\"T_a7ca6_row5_col5\" class=\"data row5 col5\" >5.410297</td>\n",
              "      <td id=\"T_a7ca6_row5_col6\" class=\"data row5 col6\" >12.841895</td>\n",
              "      <td id=\"T_a7ca6_row5_col7\" class=\"data row5 col7\" >7.773592</td>\n",
              "    </tr>\n",
              "    <tr>\n",
              "      <th id=\"T_a7ca6_level0_row6\" class=\"row_heading level0 row6\" >min</th>\n",
              "      <td id=\"T_a7ca6_row6_col0\" class=\"data row6 col0\" >nan</td>\n",
              "      <td id=\"T_a7ca6_row6_col1\" class=\"data row6 col1\" >nan</td>\n",
              "      <td id=\"T_a7ca6_row6_col2\" class=\"data row6 col2\" >0.000000</td>\n",
              "      <td id=\"T_a7ca6_row6_col3\" class=\"data row6 col3\" >0.000000</td>\n",
              "      <td id=\"T_a7ca6_row6_col4\" class=\"data row6 col4\" >0.000000</td>\n",
              "      <td id=\"T_a7ca6_row6_col5\" class=\"data row6 col5\" >0.000000</td>\n",
              "      <td id=\"T_a7ca6_row6_col6\" class=\"data row6 col6\" >0.000000</td>\n",
              "      <td id=\"T_a7ca6_row6_col7\" class=\"data row6 col7\" >0.000000</td>\n",
              "    </tr>\n",
              "    <tr>\n",
              "      <th id=\"T_a7ca6_level0_row7\" class=\"row_heading level0 row7\" >25%</th>\n",
              "      <td id=\"T_a7ca6_row7_col0\" class=\"data row7 col0\" >nan</td>\n",
              "      <td id=\"T_a7ca6_row7_col1\" class=\"data row7 col1\" >nan</td>\n",
              "      <td id=\"T_a7ca6_row7_col2\" class=\"data row7 col2\" >0.125976</td>\n",
              "      <td id=\"T_a7ca6_row7_col3\" class=\"data row7 col3\" >0.000000</td>\n",
              "      <td id=\"T_a7ca6_row7_col4\" class=\"data row7 col4\" >0.000000</td>\n",
              "      <td id=\"T_a7ca6_row7_col5\" class=\"data row7 col5\" >40.728885</td>\n",
              "      <td id=\"T_a7ca6_row7_col6\" class=\"data row7 col6\" >0.000000</td>\n",
              "      <td id=\"T_a7ca6_row7_col7\" class=\"data row7 col7\" >0.000000</td>\n",
              "    </tr>\n",
              "    <tr>\n",
              "      <th id=\"T_a7ca6_level0_row8\" class=\"row_heading level0 row8\" >50%</th>\n",
              "      <td id=\"T_a7ca6_row8_col0\" class=\"data row8 col0\" >nan</td>\n",
              "      <td id=\"T_a7ca6_row8_col1\" class=\"data row8 col1\" >nan</td>\n",
              "      <td id=\"T_a7ca6_row8_col2\" class=\"data row8 col2\" >0.146033</td>\n",
              "      <td id=\"T_a7ca6_row8_col3\" class=\"data row8 col3\" >0.085483</td>\n",
              "      <td id=\"T_a7ca6_row8_col4\" class=\"data row8 col4\" >0.000000</td>\n",
              "      <td id=\"T_a7ca6_row8_col5\" class=\"data row8 col5\" >44.266930</td>\n",
              "      <td id=\"T_a7ca6_row8_col6\" class=\"data row8 col6\" >0.000000</td>\n",
              "      <td id=\"T_a7ca6_row8_col7\" class=\"data row8 col7\" >0.000000</td>\n",
              "    </tr>\n",
              "    <tr>\n",
              "      <th id=\"T_a7ca6_level0_row9\" class=\"row_heading level0 row9\" >75%</th>\n",
              "      <td id=\"T_a7ca6_row9_col0\" class=\"data row9 col0\" >nan</td>\n",
              "      <td id=\"T_a7ca6_row9_col1\" class=\"data row9 col1\" >nan</td>\n",
              "      <td id=\"T_a7ca6_row9_col2\" class=\"data row9 col2\" >0.151635</td>\n",
              "      <td id=\"T_a7ca6_row9_col3\" class=\"data row9 col3\" >0.101673</td>\n",
              "      <td id=\"T_a7ca6_row9_col4\" class=\"data row9 col4\" >0.072558</td>\n",
              "      <td id=\"T_a7ca6_row9_col5\" class=\"data row9 col5\" >44.444710</td>\n",
              "      <td id=\"T_a7ca6_row9_col6\" class=\"data row9 col6\" >24.339581</td>\n",
              "      <td id=\"T_a7ca6_row9_col7\" class=\"data row9 col7\" >16.226389</td>\n",
              "    </tr>\n",
              "    <tr>\n",
              "      <th id=\"T_a7ca6_level0_row10\" class=\"row_heading level0 row10\" >max</th>\n",
              "      <td id=\"T_a7ca6_row10_col0\" class=\"data row10 col0\" >nan</td>\n",
              "      <td id=\"T_a7ca6_row10_col1\" class=\"data row10 col1\" >nan</td>\n",
              "      <td id=\"T_a7ca6_row10_col2\" class=\"data row10 col2\" >0.280700</td>\n",
              "      <td id=\"T_a7ca6_row10_col3\" class=\"data row10 col3\" >0.229788</td>\n",
              "      <td id=\"T_a7ca6_row10_col4\" class=\"data row10 col4\" >0.114102</td>\n",
              "      <td id=\"T_a7ca6_row10_col5\" class=\"data row10 col5\" >59.444710</td>\n",
              "      <td id=\"T_a7ca6_row10_col6\" class=\"data row10 col6\" >36.490692</td>\n",
              "      <td id=\"T_a7ca6_row10_col7\" class=\"data row10 col7\" >17.458221</td>\n",
              "    </tr>\n",
              "  </tbody>\n",
              "</table>\n"
            ],
            "text/plain": [
              "<pandas.io.formats.style.Styler at 0x7f9d2f4e7460>"
            ]
          },
          "execution_count": 41,
          "metadata": {},
          "output_type": "execute_result"
        }
      ],
      "source": [
        "df_pr.describe(include='all').style.background_gradient(axis=None, cmap='YlOrRd')"
      ]
    },
    {
      "cell_type": "code",
      "execution_count": null,
      "metadata": {
        "colab": {
          "base_uri": "https://localhost:8080/"
        },
        "id": "WQffCrBhxZ-b",
        "outputId": "ee29bb7b-f0a4-48b2-8c70-7548bf4db73f"
      },
      "outputs": [
        {
          "name": "stdout",
          "output_type": "stream",
          "text": [
            "<class 'pandas.core.frame.DataFrame'>\n",
            "RangeIndex: 193002 entries, 0 to 193001\n",
            "Data columns (total 8 columns):\n",
            " #   Column              Non-Null Count   Dtype  \n",
            "---  ------              --------------   -----  \n",
            " 0   id                  193002 non-null  object \n",
            " 1   price_date          193002 non-null  object \n",
            " 2   price_off_peak_var  193002 non-null  float64\n",
            " 3   price_peak_var      193002 non-null  float64\n",
            " 4   price_mid_peak_var  193002 non-null  float64\n",
            " 5   price_off_peak_fix  193002 non-null  float64\n",
            " 6   price_peak_fix      193002 non-null  float64\n",
            " 7   price_mid_peak_fix  193002 non-null  float64\n",
            "dtypes: float64(6), object(2)\n",
            "memory usage: 11.8+ MB\n"
          ]
        }
      ],
      "source": [
        "df_pr.info()"
      ]
    },
    {
      "cell_type": "code",
      "execution_count": null,
      "metadata": {
        "colab": {
          "base_uri": "https://localhost:8080/"
        },
        "id": "-OkWuUKYxyaE",
        "outputId": "cfb94219-1eaf-4ecf-c0d4-171da8f4ff76"
      },
      "outputs": [
        {
          "data": {
            "text/plain": [
              "id                    0\n",
              "price_date            0\n",
              "price_off_peak_var    0\n",
              "price_peak_var        0\n",
              "price_mid_peak_var    0\n",
              "price_off_peak_fix    0\n",
              "price_peak_fix        0\n",
              "price_mid_peak_fix    0\n",
              "dtype: int64"
            ]
          },
          "execution_count": 43,
          "metadata": {},
          "output_type": "execute_result"
        }
      ],
      "source": [
        "df_pr.isnull().sum()"
      ]
    },
    {
      "cell_type": "code",
      "execution_count": null,
      "metadata": {
        "colab": {
          "base_uri": "https://localhost:8080/",
          "height": 671
        },
        "id": "iBWulASqx_58",
        "outputId": "47bc14e1-1ec8-4cf8-bb5c-ae7f1f41dc1f"
      },
      "outputs": [
        {
          "data": {
            "image/png": "[encoded data removed]",
            "text/plain": [
              "<Figure size 1080x504 with 3 Axes>"
            ]
          },
          "metadata": {},
          "output_type": "display_data"
        }
      ],
      "source": [
        "msno.bar(df_pr,figsize=(15,7),fontsize=15)\n",
        "plt.title(\"the percentage of missing values \",y=1.3,fontsize=15)\n",
        "plt.show()"
      ]
    },
    {
      "cell_type": "code",
      "execution_count": null,
      "metadata": {
        "colab": {
          "base_uri": "https://localhost:8080/"
        },
        "id": "UqOg4jm-x43Q",
        "outputId": "0b9777f6-2a0f-4853-8d49-fda740f9e887"
      },
      "outputs": [
        {
          "data": {
            "text/plain": [
              "0"
            ]
          },
          "execution_count": 45,
          "metadata": {},
          "output_type": "execute_result"
        }
      ],
      "source": [
        "df_pr.duplicated().sum()"
      ]
    },
    {
      "cell_type": "code",
      "execution_count": null,
      "metadata": {},
      "outputs": [],
      "source": [
        "df_pr.hist()"
      ]
    },
    {
      "cell_type": "code",
      "execution_count": null,
      "metadata": {
        "id": "bo9cyD8xCNcZ"
      },
      "outputs": [],
      "source": [
        "df_pr['price_date']=df_pr['price_date'].apply(pd.to_datetime)"
      ]
    },
    {
      "cell_type": "code",
      "execution_count": null,
      "metadata": {
        "colab": {
          "base_uri": "https://localhost:8080/",
          "height": 359
        },
        "id": "y40B1CO1ygPR",
        "outputId": "78ff3383-ea88-4e2d-ca49-442fef4cbe7a"
      },
      "outputs": [
        {
          "data": {
            "text/plain": [
              "Text(0.5, 1.0, 'price_date of each company identify with ID')"
            ]
          },
          "execution_count": 51,
          "metadata": {},
          "output_type": "execute_result"
        },
        {
          "data": {
            "image/png": "[encoded data removed]",
            "text/plain": [
              "<Figure size 432x288 with 1 Axes>"
            ]
          },
          "metadata": {},
          "output_type": "display_data"
        }
      ],
      "source": [
        "#get price_date of each company identify with ID\n",
        "grouped_data = df_pr['id'].groupby(df_pr['price_date'].dt.year).count()\n",
        "#plot\n",
        "grouped_data.plot(kind='bar')\n",
        "#title\n",
        "plt.title('price_date of each company identify with ID')\n"
      ]
    },
    {
      "cell_type": "code",
      "execution_count": null,
      "metadata": {
        "colab": {
          "base_uri": "https://localhost:8080/",
          "height": 335
        },
        "id": "G4-B53YSzLg4",
        "outputId": "6fbe82e2-c8c9-4c61-8edc-9bc72836fbf5"
      },
      "outputs": [
        {
          "data": {
            "text/plain": [
              "Text(0.5, 1.0, 'Mean_price_off_peak_var')"
            ]
          },
          "execution_count": 53,
          "metadata": {},
          "output_type": "execute_result"
        },
        {
          "data": {
            "image/png": "[encoded data removed]",
            "text/plain": [
              "<Figure size 432x288 with 1 Axes>"
            ]
          },
          "metadata": {},
          "output_type": "display_data"
        }
      ],
      "source": [
        "#get mean of price_off_peak_var\n",
        "mean_price_off_peak_var= df_pr['price_off_peak_var'].mean()\n",
        "#plot result\n",
        "plt.plot([0, 1], [mean_price_off_peak_var, mean_price_off_peak_var], color='green')\n",
        "\n",
        "# add labels and title to the plot\n",
        "plt.xlabel('X-axis')\n",
        "plt.ylabel('mean_price_off_peak_var')\n",
        "plt.title('Mean_price_off_peak_var')"
      ]
    },
    {
      "cell_type": "code",
      "execution_count": null,
      "metadata": {
        "colab": {
          "base_uri": "https://localhost:8080/",
          "height": 335
        },
        "id": "Gr5PcMiKzLdY",
        "outputId": "0303a5b0-a69b-4bf4-8909-01eed877ca63"
      },
      "outputs": [
        {
          "data": {
            "text/plain": [
              "Text(0.5, 1.0, 'Mean_price_peak_var')"
            ]
          },
          "execution_count": 55,
          "metadata": {},
          "output_type": "execute_result"
        },
        {
          "data": {
            "image/png": "[encoded data removed]",
            "text/plain": [
              "<Figure size 432x288 with 1 Axes>"
            ]
          },
          "metadata": {},
          "output_type": "display_data"
        }
      ],
      "source": [
        "#get_mean_price_peak_var\n",
        "mean_price_peak_var= df_pr['price_peak_var'].mean()\n",
        "#plot result\n",
        "plt.plot([0, 1], [mean_price_peak_var, mean_price_peak_var], color='green')\n",
        "\n",
        "# add labels and title to the plot\n",
        "plt.xlabel('X-axis')\n",
        "plt.ylabel('mean_price_peak_var')\n",
        "plt.title('Mean_price_peak_var')"
      ]
    },
    {
      "cell_type": "code",
      "execution_count": null,
      "metadata": {
        "colab": {
          "base_uri": "https://localhost:8080/",
          "height": 335
        },
        "id": "i6DAZrSSzLaZ",
        "outputId": "8385ad84-a433-4afb-acae-f34446c7b1de"
      },
      "outputs": [
        {
          "data": {
            "text/plain": [
              "Text(0.5, 1.0, 'Mean_price_mid_peak_var')"
            ]
          },
          "execution_count": 56,
          "metadata": {},
          "output_type": "execute_result"
        },
        {
          "data": {
            "image/png": "[encoded data removed]",
            "text/plain": [
              "<Figure size 432x288 with 1 Axes>"
            ]
          },
          "metadata": {},
          "output_type": "display_data"
        }
      ],
      "source": [
        "#get _mean of price_mid_peak_var\n",
        "mean_price_mid_peak_var= df_pr['price_mid_peak_var'].mean()\n",
        "#plot result\n",
        "plt.plot([0, 1], [mean_price_mid_peak_var, mean_price_mid_peak_var], color='green')\n",
        "\n",
        "# add labels and title to the plot\n",
        "plt.xlabel('X-axis')\n",
        "plt.ylabel('price_mid_peak_var')\n",
        "plt.title('Mean_price_mid_peak_var')"
      ]
    },
    {
      "cell_type": "code",
      "execution_count": null,
      "metadata": {
        "colab": {
          "base_uri": "https://localhost:8080/",
          "height": 335
        },
        "id": "bISmbThmzLXT",
        "outputId": "440e4213-469e-4192-f429-da6563b76a55"
      },
      "outputs": [
        {
          "data": {
            "text/plain": [
              "Text(0.5, 1.0, 'Mean_price_off_peak_fix ')"
            ]
          },
          "execution_count": 58,
          "metadata": {},
          "output_type": "execute_result"
        },
        {
          "data": {
            "image/png": "[encoded data removed]",
            "text/plain": [
              "<Figure size 432x288 with 1 Axes>"
            ]
          },
          "metadata": {},
          "output_type": "display_data"
        }
      ],
      "source": [
        "#get mean of price_off_peak_fix\n",
        "mean_price_off_peak_fix = df_pr['price_off_peak_fix'].mean()\n",
        "#plot result\n",
        "plt.plot([0, 1], [mean_price_off_peak_fix , mean_price_off_peak_fix ], color='green')\n",
        "\n",
        "# add labels and title to the plot\n",
        "plt.xlabel('X-axis')\n",
        "plt.ylabel('price_off_peak_fix ')\n",
        "plt.title('Mean_price_off_peak_fix ')"
      ]
    },
    {
      "cell_type": "code",
      "execution_count": null,
      "metadata": {
        "colab": {
          "base_uri": "https://localhost:8080/",
          "height": 335
        },
        "id": "cjaxSS3fzLT3",
        "outputId": "abcb1c63-f100-4d54-d607-ce4b8a363879"
      },
      "outputs": [
        {
          "data": {
            "text/plain": [
              "Text(0.5, 1.0, 'Mean_price_mid_peak_fix')"
            ]
          },
          "execution_count": 59,
          "metadata": {},
          "output_type": "execute_result"
        },
        {
          "data": {
            "image/png": "[encoded data removed]",
            "text/plain": [
              "<Figure size 432x288 with 1 Axes>"
            ]
          },
          "metadata": {},
          "output_type": "display_data"
        }
      ],
      "source": [
        "#get mean of price_mid_peak_fix\n",
        "mean_price_mid_peak_fix= df_pr['price_mid_peak_fix'].mean()\n",
        "#plot result\n",
        "plt.plot([0, 1], [mean_price_mid_peak_fix, mean_price_mid_peak_fix], color='green')\n",
        "\n",
        "# add labels and title to the plot\n",
        "plt.xlabel('X-axis')\n",
        "plt.ylabel('price_mid_peak_fix')\n",
        "plt.title('Mean_price_mid_peak_fix')"
      ]
    },
    {
      "cell_type": "code",
      "execution_count": null,
      "metadata": {
        "colab": {
          "base_uri": "https://localhost:8080/",
          "height": 335
        },
        "id": "1zzS6IjtzLQc",
        "outputId": "049fba78-c619-4a53-8a83-a96e81061ab3"
      },
      "outputs": [
        {
          "data": {
            "text/plain": [
              "Text(0.5, 1.0, 'Mean_price_peak_fix')"
            ]
          },
          "execution_count": 54,
          "metadata": {},
          "output_type": "execute_result"
        },
        {
          "data": {
            "image/png": "[encoded data removed]",
            "text/plain": [
              "<Figure size 432x288 with 1 Axes>"
            ]
          },
          "metadata": {},
          "output_type": "display_data"
        }
      ],
      "source": [
        "#get mean of price_peak_fix\n",
        "mean_price_peak_fix= df_pr['price_peak_fix'].mean()\n",
        "#plot result\n",
        "plt.plot([0, 1], [mean_price_peak_fix, mean_price_peak_fix], color='green')\n",
        "\n",
        "# add labels and title to the plot\n",
        "plt.xlabel('X-axis')\n",
        "plt.ylabel('price_peak_fix')\n",
        "plt.title('Mean_price_peak_fix')"
      ]
    },
    {
      "cell_type": "code",
      "execution_count": null,
      "metadata": {
        "id": "qfbXGBizzLNM"
      },
      "outputs": [],
      "source": [
        "#cocatonate two data and get overview about both\n",
        "df_concat=pd.concat([df_cl,df_pr],axis=0)"
      ]
    },
    {
      "cell_type": "code",
      "execution_count": null,
      "metadata": {
        "id": "QtgTSsIvGYEY"
      },
      "outputs": [],
      "source": [
        "df_concat.to_csv('client_price_data',index=False)"
      ]
    }
  ],
  "metadata": {
    "colab": {
      "provenance": []
    },
    "kernelspec": {
      "display_name": "Python 3",
      "language": "python",
      "name": "python3"
    },
    "language_info": {
      "name": "python",
      "version": "3.11.1 (tags/v3.11.1:a7a450f, Dec  6 2022, 19:58:39) [MSC v.1934 64 bit (AMD64)]"
    },
    "vscode": {
      "interpreter": {
        "hash": "ea196479a5385923632da45525d7188e610e0eb2dc56d25f3c56871880664297"
      }
    },
    "widgets": {
      "application/vnd.jupyter.widget-state+json": {
        "12a7b52387f5478695ef0bd7c83001b5": {
          "model_module": "@jupyter-widgets/base",
          "model_module_version": "1.2.0",
          "model_name": "LayoutModel",
          "state": {
            "_model_module": "@jupyter-widgets/base",
            "_model_module_version": "1.2.0",
            "_model_name": "LayoutModel",
            "_view_count": null,
            "_view_module": "@jupyter-widgets/base",
            "_view_module_version": "1.2.0",
            "_view_name": "LayoutView",
            "align_content": null,
            "align_items": null,
            "align_self": null,
            "border": null,
            "bottom": null,
            "display": null,
            "flex": null,
            "flex_flow": null,
            "grid_area": null,
            "grid_auto_columns": null,
            "grid_auto_flow": null,
            "grid_auto_rows": null,
            "grid_column": null,
            "grid_gap": null,
            "grid_row": null,
            "grid_template_areas": null,
            "grid_template_columns": null,
            "grid_template_rows": null,
            "height": null,
            "justify_content": null,
            "justify_items": null,
            "left": null,
            "margin": null,
            "max_height": null,
            "max_width": null,
            "min_height": null,
            "min_width": null,
            "object_fit": null,
            "object_position": null,
            "order": null,
            "overflow": null,
            "overflow_x": null,
            "overflow_y": null,
            "padding": null,
            "right": null,
            "top": null,
            "visibility": null,
            "width": null
          }
        },
        "19709c92af6b40798e3dbcf516d984d3": {
          "model_module": "@jupyter-widgets/controls",
          "model_module_version": "1.5.0",
          "model_name": "HTMLModel",
          "state": {
            "_dom_classes": [],
            "_model_module": "@jupyter-widgets/controls",
            "_model_module_version": "1.5.0",
            "_model_name": "HTMLModel",
            "_view_count": null,
            "_view_module": "@jupyter-widgets/controls",
            "_view_module_version": "1.5.0",
            "_view_name": "HTMLView",
            "description": "",
            "description_tooltip": null,
            "layout": "IPY_MODEL_8bd2be6095764060abca1f034224c7af",
            "placeholder": "​",
            "style": "IPY_MODEL_8a9d7966b4f9421f833fd4c46fe0baa8",
            "value": " 1/1 [00:16&lt;00:00, 16.72s/it]"
          }
        },
        "2cbc2ec13ae34cf5bf25faddf8f837e7": {
          "model_module": "@jupyter-widgets/controls",
          "model_module_version": "1.5.0",
          "model_name": "HBoxModel",
          "state": {
            "_dom_classes": [],
            "_model_module": "@jupyter-widgets/controls",
            "_model_module_version": "1.5.0",
            "_model_name": "HBoxModel",
            "_view_count": null,
            "_view_module": "@jupyter-widgets/controls",
            "_view_module_version": "1.5.0",
            "_view_name": "HBoxView",
            "box_style": "",
            "children": [
              "IPY_MODEL_4929c3100b654cbb83c4b35d38431a85",
              "IPY_MODEL_a03de0dd1f29447aa9705d7193e975d3",
              "IPY_MODEL_2e477059dba44bfb86ea20093848d473"
            ],
            "layout": "IPY_MODEL_12a7b52387f5478695ef0bd7c83001b5"
          }
        },
        "2e477059dba44bfb86ea20093848d473": {
          "model_module": "@jupyter-widgets/controls",
          "model_module_version": "1.5.0",
          "model_name": "HTMLModel",
          "state": {
            "_dom_classes": [],
            "_model_module": "@jupyter-widgets/controls",
            "_model_module_version": "1.5.0",
            "_model_name": "HTMLModel",
            "_view_count": null,
            "_view_module": "@jupyter-widgets/controls",
            "_view_module_version": "1.5.0",
            "_view_name": "HTMLView",
            "description": "",
            "description_tooltip": null,
            "layout": "IPY_MODEL_6de75ff213e1464b83b7bd93ca3c06eb",
            "placeholder": "​",
            "style": "IPY_MODEL_ceabfc40a57d45b482baab79230bb09a",
            "value": " 572/572 [01:43&lt;00:00,  1.17it/s, Completed]"
          }
        },
        "36b55f12777c4cbf875c009d9625d1c7": {
          "model_module": "@jupyter-widgets/base",
          "model_module_version": "1.2.0",
          "model_name": "LayoutModel",
          "state": {
            "_model_module": "@jupyter-widgets/base",
            "_model_module_version": "1.2.0",
            "_model_name": "LayoutModel",
            "_view_count": null,
            "_view_module": "@jupyter-widgets/base",
            "_view_module_version": "1.2.0",
            "_view_name": "LayoutView",
            "align_content": null,
            "align_items": null,
            "align_self": null,
            "border": null,
            "bottom": null,
            "display": null,
            "flex": null,
            "flex_flow": null,
            "grid_area": null,
            "grid_auto_columns": null,
            "grid_auto_flow": null,
            "grid_auto_rows": null,
            "grid_column": null,
            "grid_gap": null,
            "grid_row": null,
            "grid_template_areas": null,
            "grid_template_columns": null,
            "grid_template_rows": null,
            "height": null,
            "justify_content": null,
            "justify_items": null,
            "left": null,
            "margin": null,
            "max_height": null,
            "max_width": null,
            "min_height": null,
            "min_width": null,
            "object_fit": null,
            "object_position": null,
            "order": null,
            "overflow": null,
            "overflow_x": null,
            "overflow_y": null,
            "padding": null,
            "right": null,
            "top": null,
            "visibility": null,
            "width": null
          }
        },
        "4482b93e82904655a5239d10642c3d19": {
          "model_module": "@jupyter-widgets/controls",
          "model_module_version": "1.5.0",
          "model_name": "HTMLModel",
          "state": {
            "_dom_classes": [],
            "_model_module": "@jupyter-widgets/controls",
            "_model_module_version": "1.5.0",
            "_model_name": "HTMLModel",
            "_view_count": null,
            "_view_module": "@jupyter-widgets/controls",
            "_view_module_version": "1.5.0",
            "_view_name": "HTMLView",
            "description": "",
            "description_tooltip": null,
            "layout": "IPY_MODEL_8ba6f3546e774443b8fd3cf24106b89d",
            "placeholder": "​",
            "style": "IPY_MODEL_c462eeac8c2a4cf381d982fe196b89f2",
            "value": "Generate report structure: 100%"
          }
        },
        "4815ac7174e242a9995c0bc66f9cf12e": {
          "model_module": "@jupyter-widgets/base",
          "model_module_version": "1.2.0",
          "model_name": "LayoutModel",
          "state": {
            "_model_module": "@jupyter-widgets/base",
            "_model_module_version": "1.2.0",
            "_model_name": "LayoutModel",
            "_view_count": null,
            "_view_module": "@jupyter-widgets/base",
            "_view_module_version": "1.2.0",
            "_view_name": "LayoutView",
            "align_content": null,
            "align_items": null,
            "align_self": null,
            "border": null,
            "bottom": null,
            "display": null,
            "flex": null,
            "flex_flow": null,
            "grid_area": null,
            "grid_auto_columns": null,
            "grid_auto_flow": null,
            "grid_auto_rows": null,
            "grid_column": null,
            "grid_gap": null,
            "grid_row": null,
            "grid_template_areas": null,
            "grid_template_columns": null,
            "grid_template_rows": null,
            "height": null,
            "justify_content": null,
            "justify_items": null,
            "left": null,
            "margin": null,
            "max_height": null,
            "max_width": null,
            "min_height": null,
            "min_width": null,
            "object_fit": null,
            "object_position": null,
            "order": null,
            "overflow": null,
            "overflow_x": null,
            "overflow_y": null,
            "padding": null,
            "right": null,
            "top": null,
            "visibility": null,
            "width": null
          }
        },
        "4929c3100b654cbb83c4b35d38431a85": {
          "model_module": "@jupyter-widgets/controls",
          "model_module_version": "1.5.0",
          "model_name": "HTMLModel",
          "state": {
            "_dom_classes": [],
            "_model_module": "@jupyter-widgets/controls",
            "_model_module_version": "1.5.0",
            "_model_name": "HTMLModel",
            "_view_count": null,
            "_view_module": "@jupyter-widgets/controls",
            "_view_module_version": "1.5.0",
            "_view_name": "HTMLView",
            "description": "",
            "description_tooltip": null,
            "layout": "IPY_MODEL_eca5729ba2ab4cd6baedd19356864fcd",
            "placeholder": "​",
            "style": "IPY_MODEL_eb35be58f19745b2812a5e54f19ebe6d",
            "value": "Summarize dataset: 100%"
          }
        },
        "4bef4e9c30a5437eb812c7641a3bd2d3": {
          "model_module": "@jupyter-widgets/controls",
          "model_module_version": "1.5.0",
          "model_name": "ProgressStyleModel",
          "state": {
            "_model_module": "@jupyter-widgets/controls",
            "_model_module_version": "1.5.0",
            "_model_name": "ProgressStyleModel",
            "_view_count": null,
            "_view_module": "@jupyter-widgets/base",
            "_view_module_version": "1.2.0",
            "_view_name": "StyleView",
            "bar_color": null,
            "description_width": ""
          }
        },
        "4c8cae5a4a774b07b32dafd03fe9a799": {
          "model_module": "@jupyter-widgets/base",
          "model_module_version": "1.2.0",
          "model_name": "LayoutModel",
          "state": {
            "_model_module": "@jupyter-widgets/base",
            "_model_module_version": "1.2.0",
            "_model_name": "LayoutModel",
            "_view_count": null,
            "_view_module": "@jupyter-widgets/base",
            "_view_module_version": "1.2.0",
            "_view_name": "LayoutView",
            "align_content": null,
            "align_items": null,
            "align_self": null,
            "border": null,
            "bottom": null,
            "display": null,
            "flex": null,
            "flex_flow": null,
            "grid_area": null,
            "grid_auto_columns": null,
            "grid_auto_flow": null,
            "grid_auto_rows": null,
            "grid_column": null,
            "grid_gap": null,
            "grid_row": null,
            "grid_template_areas": null,
            "grid_template_columns": null,
            "grid_template_rows": null,
            "height": null,
            "justify_content": null,
            "justify_items": null,
            "left": null,
            "margin": null,
            "max_height": null,
            "max_width": null,
            "min_height": null,
            "min_width": null,
            "object_fit": null,
            "object_position": null,
            "order": null,
            "overflow": null,
            "overflow_x": null,
            "overflow_y": null,
            "padding": null,
            "right": null,
            "top": null,
            "visibility": null,
            "width": null
          }
        },
        "50d87f78a5f342a0a7b54d8bb90f2b7e": {
          "model_module": "@jupyter-widgets/controls",
          "model_module_version": "1.5.0",
          "model_name": "HBoxModel",
          "state": {
            "_dom_classes": [],
            "_model_module": "@jupyter-widgets/controls",
            "_model_module_version": "1.5.0",
            "_model_name": "HBoxModel",
            "_view_count": null,
            "_view_module": "@jupyter-widgets/controls",
            "_view_module_version": "1.5.0",
            "_view_name": "HBoxView",
            "box_style": "",
            "children": [
              "IPY_MODEL_4482b93e82904655a5239d10642c3d19",
              "IPY_MODEL_8a279645a0b54735b555cef9edae82e2",
              "IPY_MODEL_19709c92af6b40798e3dbcf516d984d3"
            ],
            "layout": "IPY_MODEL_b35eec2bac6148609a639cd327257496"
          }
        },
        "535925199739485481603a1a24a04a2f": {
          "model_module": "@jupyter-widgets/controls",
          "model_module_version": "1.5.0",
          "model_name": "HBoxModel",
          "state": {
            "_dom_classes": [],
            "_model_module": "@jupyter-widgets/controls",
            "_model_module_version": "1.5.0",
            "_model_name": "HBoxModel",
            "_view_count": null,
            "_view_module": "@jupyter-widgets/controls",
            "_view_module_version": "1.5.0",
            "_view_name": "HBoxView",
            "box_style": "",
            "children": [
              "IPY_MODEL_61e1b28f9023400387a38c50b7144e5f",
              "IPY_MODEL_c0c40bf268e64515990efdbee4d725ac",
              "IPY_MODEL_c52b69cf05d947f595b8773acb381e8a"
            ],
            "layout": "IPY_MODEL_e17fb9eb7af242dcb3c93895d0b3f419"
          }
        },
        "61e1b28f9023400387a38c50b7144e5f": {
          "model_module": "@jupyter-widgets/controls",
          "model_module_version": "1.5.0",
          "model_name": "HTMLModel",
          "state": {
            "_dom_classes": [],
            "_model_module": "@jupyter-widgets/controls",
            "_model_module_version": "1.5.0",
            "_model_name": "HTMLModel",
            "_view_count": null,
            "_view_module": "@jupyter-widgets/controls",
            "_view_module_version": "1.5.0",
            "_view_name": "HTMLView",
            "description": "",
            "description_tooltip": null,
            "layout": "IPY_MODEL_a2558d1e8ae34584ac161ac972b26e41",
            "placeholder": "​",
            "style": "IPY_MODEL_a395609768004e5997b59fadc0ad0024",
            "value": "Render HTML: 100%"
          }
        },
        "6de75ff213e1464b83b7bd93ca3c06eb": {
          "model_module": "@jupyter-widgets/base",
          "model_module_version": "1.2.0",
          "model_name": "LayoutModel",
          "state": {
            "_model_module": "@jupyter-widgets/base",
            "_model_module_version": "1.2.0",
            "_model_name": "LayoutModel",
            "_view_count": null,
            "_view_module": "@jupyter-widgets/base",
            "_view_module_version": "1.2.0",
            "_view_name": "LayoutView",
            "align_content": null,
            "align_items": null,
            "align_self": null,
            "border": null,
            "bottom": null,
            "display": null,
            "flex": null,
            "flex_flow": null,
            "grid_area": null,
            "grid_auto_columns": null,
            "grid_auto_flow": null,
            "grid_auto_rows": null,
            "grid_column": null,
            "grid_gap": null,
            "grid_row": null,
            "grid_template_areas": null,
            "grid_template_columns": null,
            "grid_template_rows": null,
            "height": null,
            "justify_content": null,
            "justify_items": null,
            "left": null,
            "margin": null,
            "max_height": null,
            "max_width": null,
            "min_height": null,
            "min_width": null,
            "object_fit": null,
            "object_position": null,
            "order": null,
            "overflow": null,
            "overflow_x": null,
            "overflow_y": null,
            "padding": null,
            "right": null,
            "top": null,
            "visibility": null,
            "width": null
          }
        },
        "8a279645a0b54735b555cef9edae82e2": {
          "model_module": "@jupyter-widgets/controls",
          "model_module_version": "1.5.0",
          "model_name": "FloatProgressModel",
          "state": {
            "_dom_classes": [],
            "_model_module": "@jupyter-widgets/controls",
            "_model_module_version": "1.5.0",
            "_model_name": "FloatProgressModel",
            "_view_count": null,
            "_view_module": "@jupyter-widgets/controls",
            "_view_module_version": "1.5.0",
            "_view_name": "ProgressView",
            "bar_style": "success",
            "description": "",
            "description_tooltip": null,
            "layout": "IPY_MODEL_36b55f12777c4cbf875c009d9625d1c7",
            "max": 1,
            "min": 0,
            "orientation": "horizontal",
            "style": "IPY_MODEL_4bef4e9c30a5437eb812c7641a3bd2d3",
            "value": 1
          }
        },
        "8a9d7966b4f9421f833fd4c46fe0baa8": {
          "model_module": "@jupyter-widgets/controls",
          "model_module_version": "1.5.0",
          "model_name": "DescriptionStyleModel",
          "state": {
            "_model_module": "@jupyter-widgets/controls",
            "_model_module_version": "1.5.0",
            "_model_name": "DescriptionStyleModel",
            "_view_count": null,
            "_view_module": "@jupyter-widgets/base",
            "_view_module_version": "1.2.0",
            "_view_name": "StyleView",
            "description_width": ""
          }
        },
        "8ba6f3546e774443b8fd3cf24106b89d": {
          "model_module": "@jupyter-widgets/base",
          "model_module_version": "1.2.0",
          "model_name": "LayoutModel",
          "state": {
            "_model_module": "@jupyter-widgets/base",
            "_model_module_version": "1.2.0",
            "_model_name": "LayoutModel",
            "_view_count": null,
            "_view_module": "@jupyter-widgets/base",
            "_view_module_version": "1.2.0",
            "_view_name": "LayoutView",
            "align_content": null,
            "align_items": null,
            "align_self": null,
            "border": null,
            "bottom": null,
            "display": null,
            "flex": null,
            "flex_flow": null,
            "grid_area": null,
            "grid_auto_columns": null,
            "grid_auto_flow": null,
            "grid_auto_rows": null,
            "grid_column": null,
            "grid_gap": null,
            "grid_row": null,
            "grid_template_areas": null,
            "grid_template_columns": null,
            "grid_template_rows": null,
            "height": null,
            "justify_content": null,
            "justify_items": null,
            "left": null,
            "margin": null,
            "max_height": null,
            "max_width": null,
            "min_height": null,
            "min_width": null,
            "object_fit": null,
            "object_position": null,
            "order": null,
            "overflow": null,
            "overflow_x": null,
            "overflow_y": null,
            "padding": null,
            "right": null,
            "top": null,
            "visibility": null,
            "width": null
          }
        },
        "8bd2be6095764060abca1f034224c7af": {
          "model_module": "@jupyter-widgets/base",
          "model_module_version": "1.2.0",
          "model_name": "LayoutModel",
          "state": {
            "_model_module": "@jupyter-widgets/base",
            "_model_module_version": "1.2.0",
            "_model_name": "LayoutModel",
            "_view_count": null,
            "_view_module": "@jupyter-widgets/base",
            "_view_module_version": "1.2.0",
            "_view_name": "LayoutView",
            "align_content": null,
            "align_items": null,
            "align_self": null,
            "border": null,
            "bottom": null,
            "display": null,
            "flex": null,
            "flex_flow": null,
            "grid_area": null,
            "grid_auto_columns": null,
            "grid_auto_flow": null,
            "grid_auto_rows": null,
            "grid_column": null,
            "grid_gap": null,
            "grid_row": null,
            "grid_template_areas": null,
            "grid_template_columns": null,
            "grid_template_rows": null,
            "height": null,
            "justify_content": null,
            "justify_items": null,
            "left": null,
            "margin": null,
            "max_height": null,
            "max_width": null,
            "min_height": null,
            "min_width": null,
            "object_fit": null,
            "object_position": null,
            "order": null,
            "overflow": null,
            "overflow_x": null,
            "overflow_y": null,
            "padding": null,
            "right": null,
            "top": null,
            "visibility": null,
            "width": null
          }
        },
        "9b5ab7058fc14924aedc7fc43fd02882": {
          "model_module": "@jupyter-widgets/controls",
          "model_module_version": "1.5.0",
          "model_name": "DescriptionStyleModel",
          "state": {
            "_model_module": "@jupyter-widgets/controls",
            "_model_module_version": "1.5.0",
            "_model_name": "DescriptionStyleModel",
            "_view_count": null,
            "_view_module": "@jupyter-widgets/base",
            "_view_module_version": "1.2.0",
            "_view_name": "StyleView",
            "description_width": ""
          }
        },
        "a03de0dd1f29447aa9705d7193e975d3": {
          "model_module": "@jupyter-widgets/controls",
          "model_module_version": "1.5.0",
          "model_name": "FloatProgressModel",
          "state": {
            "_dom_classes": [],
            "_model_module": "@jupyter-widgets/controls",
            "_model_module_version": "1.5.0",
            "_model_name": "FloatProgressModel",
            "_view_count": null,
            "_view_module": "@jupyter-widgets/controls",
            "_view_module_version": "1.5.0",
            "_view_name": "ProgressView",
            "bar_style": "success",
            "description": "",
            "description_tooltip": null,
            "layout": "IPY_MODEL_4c8cae5a4a774b07b32dafd03fe9a799",
            "max": 5,
            "min": 0,
            "orientation": "horizontal",
            "style": "IPY_MODEL_fdb2c074dd284178a2e093b0e1f688c5",
            "value": 5
          }
        },
        "a2558d1e8ae34584ac161ac972b26e41": {
          "model_module": "@jupyter-widgets/base",
          "model_module_version": "1.2.0",
          "model_name": "LayoutModel",
          "state": {
            "_model_module": "@jupyter-widgets/base",
            "_model_module_version": "1.2.0",
            "_model_name": "LayoutModel",
            "_view_count": null,
            "_view_module": "@jupyter-widgets/base",
            "_view_module_version": "1.2.0",
            "_view_name": "LayoutView",
            "align_content": null,
            "align_items": null,
            "align_self": null,
            "border": null,
            "bottom": null,
            "display": null,
            "flex": null,
            "flex_flow": null,
            "grid_area": null,
            "grid_auto_columns": null,
            "grid_auto_flow": null,
            "grid_auto_rows": null,
            "grid_column": null,
            "grid_gap": null,
            "grid_row": null,
            "grid_template_areas": null,
            "grid_template_columns": null,
            "grid_template_rows": null,
            "height": null,
            "justify_content": null,
            "justify_items": null,
            "left": null,
            "margin": null,
            "max_height": null,
            "max_width": null,
            "min_height": null,
            "min_width": null,
            "object_fit": null,
            "object_position": null,
            "order": null,
            "overflow": null,
            "overflow_x": null,
            "overflow_y": null,
            "padding": null,
            "right": null,
            "top": null,
            "visibility": null,
            "width": null
          }
        },
        "a395609768004e5997b59fadc0ad0024": {
          "model_module": "@jupyter-widgets/controls",
          "model_module_version": "1.5.0",
          "model_name": "DescriptionStyleModel",
          "state": {
            "_model_module": "@jupyter-widgets/controls",
            "_model_module_version": "1.5.0",
            "_model_name": "DescriptionStyleModel",
            "_view_count": null,
            "_view_module": "@jupyter-widgets/base",
            "_view_module_version": "1.2.0",
            "_view_name": "StyleView",
            "description_width": ""
          }
        },
        "b35eec2bac6148609a639cd327257496": {
          "model_module": "@jupyter-widgets/base",
          "model_module_version": "1.2.0",
          "model_name": "LayoutModel",
          "state": {
            "_model_module": "@jupyter-widgets/base",
            "_model_module_version": "1.2.0",
            "_model_name": "LayoutModel",
            "_view_count": null,
            "_view_module": "@jupyter-widgets/base",
            "_view_module_version": "1.2.0",
            "_view_name": "LayoutView",
            "align_content": null,
            "align_items": null,
            "align_self": null,
            "border": null,
            "bottom": null,
            "display": null,
            "flex": null,
            "flex_flow": null,
            "grid_area": null,
            "grid_auto_columns": null,
            "grid_auto_flow": null,
            "grid_auto_rows": null,
            "grid_column": null,
            "grid_gap": null,
            "grid_row": null,
            "grid_template_areas": null,
            "grid_template_columns": null,
            "grid_template_rows": null,
            "height": null,
            "justify_content": null,
            "justify_items": null,
            "left": null,
            "margin": null,
            "max_height": null,
            "max_width": null,
            "min_height": null,
            "min_width": null,
            "object_fit": null,
            "object_position": null,
            "order": null,
            "overflow": null,
            "overflow_x": null,
            "overflow_y": null,
            "padding": null,
            "right": null,
            "top": null,
            "visibility": null,
            "width": null
          }
        },
        "c02460aa77a34f849c005076ffe510f0": {
          "model_module": "@jupyter-widgets/base",
          "model_module_version": "1.2.0",
          "model_name": "LayoutModel",
          "state": {
            "_model_module": "@jupyter-widgets/base",
            "_model_module_version": "1.2.0",
            "_model_name": "LayoutModel",
            "_view_count": null,
            "_view_module": "@jupyter-widgets/base",
            "_view_module_version": "1.2.0",
            "_view_name": "LayoutView",
            "align_content": null,
            "align_items": null,
            "align_self": null,
            "border": null,
            "bottom": null,
            "display": null,
            "flex": null,
            "flex_flow": null,
            "grid_area": null,
            "grid_auto_columns": null,
            "grid_auto_flow": null,
            "grid_auto_rows": null,
            "grid_column": null,
            "grid_gap": null,
            "grid_row": null,
            "grid_template_areas": null,
            "grid_template_columns": null,
            "grid_template_rows": null,
            "height": null,
            "justify_content": null,
            "justify_items": null,
            "left": null,
            "margin": null,
            "max_height": null,
            "max_width": null,
            "min_height": null,
            "min_width": null,
            "object_fit": null,
            "object_position": null,
            "order": null,
            "overflow": null,
            "overflow_x": null,
            "overflow_y": null,
            "padding": null,
            "right": null,
            "top": null,
            "visibility": null,
            "width": null
          }
        },
        "c0c40bf268e64515990efdbee4d725ac": {
          "model_module": "@jupyter-widgets/controls",
          "model_module_version": "1.5.0",
          "model_name": "FloatProgressModel",
          "state": {
            "_dom_classes": [],
            "_model_module": "@jupyter-widgets/controls",
            "_model_module_version": "1.5.0",
            "_model_name": "FloatProgressModel",
            "_view_count": null,
            "_view_module": "@jupyter-widgets/controls",
            "_view_module_version": "1.5.0",
            "_view_name": "ProgressView",
            "bar_style": "success",
            "description": "",
            "description_tooltip": null,
            "layout": "IPY_MODEL_c02460aa77a34f849c005076ffe510f0",
            "max": 1,
            "min": 0,
            "orientation": "horizontal",
            "style": "IPY_MODEL_cc32e088bb894a5e9aeba5c9010743c1",
            "value": 1
          }
        },
        "c462eeac8c2a4cf381d982fe196b89f2": {
          "model_module": "@jupyter-widgets/controls",
          "model_module_version": "1.5.0",
          "model_name": "DescriptionStyleModel",
          "state": {
            "_model_module": "@jupyter-widgets/controls",
            "_model_module_version": "1.5.0",
            "_model_name": "DescriptionStyleModel",
            "_view_count": null,
            "_view_module": "@jupyter-widgets/base",
            "_view_module_version": "1.2.0",
            "_view_name": "StyleView",
            "description_width": ""
          }
        },
        "c52b69cf05d947f595b8773acb381e8a": {
          "model_module": "@jupyter-widgets/controls",
          "model_module_version": "1.5.0",
          "model_name": "HTMLModel",
          "state": {
            "_dom_classes": [],
            "_model_module": "@jupyter-widgets/controls",
            "_model_module_version": "1.5.0",
            "_model_name": "HTMLModel",
            "_view_count": null,
            "_view_module": "@jupyter-widgets/controls",
            "_view_module_version": "1.5.0",
            "_view_name": "HTMLView",
            "description": "",
            "description_tooltip": null,
            "layout": "IPY_MODEL_4815ac7174e242a9995c0bc66f9cf12e",
            "placeholder": "​",
            "style": "IPY_MODEL_9b5ab7058fc14924aedc7fc43fd02882",
            "value": " 1/1 [00:15&lt;00:00, 15.88s/it]"
          }
        },
        "cc32e088bb894a5e9aeba5c9010743c1": {
          "model_module": "@jupyter-widgets/controls",
          "model_module_version": "1.5.0",
          "model_name": "ProgressStyleModel",
          "state": {
            "_model_module": "@jupyter-widgets/controls",
            "_model_module_version": "1.5.0",
            "_model_name": "ProgressStyleModel",
            "_view_count": null,
            "_view_module": "@jupyter-widgets/base",
            "_view_module_version": "1.2.0",
            "_view_name": "StyleView",
            "bar_color": null,
            "description_width": ""
          }
        },
        "ceabfc40a57d45b482baab79230bb09a": {
          "model_module": "@jupyter-widgets/controls",
          "model_module_version": "1.5.0",
          "model_name": "DescriptionStyleModel",
          "state": {
            "_model_module": "@jupyter-widgets/controls",
            "_model_module_version": "1.5.0",
            "_model_name": "DescriptionStyleModel",
            "_view_count": null,
            "_view_module": "@jupyter-widgets/base",
            "_view_module_version": "1.2.0",
            "_view_name": "StyleView",
            "description_width": ""
          }
        },
        "e17fb9eb7af242dcb3c93895d0b3f419": {
          "model_module": "@jupyter-widgets/base",
          "model_module_version": "1.2.0",
          "model_name": "LayoutModel",
          "state": {
            "_model_module": "@jupyter-widgets/base",
            "_model_module_version": "1.2.0",
            "_model_name": "LayoutModel",
            "_view_count": null,
            "_view_module": "@jupyter-widgets/base",
            "_view_module_version": "1.2.0",
            "_view_name": "LayoutView",
            "align_content": null,
            "align_items": null,
            "align_self": null,
            "border": null,
            "bottom": null,
            "display": null,
            "flex": null,
            "flex_flow": null,
            "grid_area": null,
            "grid_auto_columns": null,
            "grid_auto_flow": null,
            "grid_auto_rows": null,
            "grid_column": null,
            "grid_gap": null,
            "grid_row": null,
            "grid_template_areas": null,
            "grid_template_columns": null,
            "grid_template_rows": null,
            "height": null,
            "justify_content": null,
            "justify_items": null,
            "left": null,
            "margin": null,
            "max_height": null,
            "max_width": null,
            "min_height": null,
            "min_width": null,
            "object_fit": null,
            "object_position": null,
            "order": null,
            "overflow": null,
            "overflow_x": null,
            "overflow_y": null,
            "padding": null,
            "right": null,
            "top": null,
            "visibility": null,
            "width": null
          }
        },
        "eb35be58f19745b2812a5e54f19ebe6d": {
          "model_module": "@jupyter-widgets/controls",
          "model_module_version": "1.5.0",
          "model_name": "DescriptionStyleModel",
          "state": {
            "_model_module": "@jupyter-widgets/controls",
            "_model_module_version": "1.5.0",
            "_model_name": "DescriptionStyleModel",
            "_view_count": null,
            "_view_module": "@jupyter-widgets/base",
            "_view_module_version": "1.2.0",
            "_view_name": "StyleView",
            "description_width": ""
          }
        },
        "eca5729ba2ab4cd6baedd19356864fcd": {
          "model_module": "@jupyter-widgets/base",
          "model_module_version": "1.2.0",
          "model_name": "LayoutModel",
          "state": {
            "_model_module": "@jupyter-widgets/base",
            "_model_module_version": "1.2.0",
            "_model_name": "LayoutModel",
            "_view_count": null,
            "_view_module": "@jupyter-widgets/base",
            "_view_module_version": "1.2.0",
            "_view_name": "LayoutView",
            "align_content": null,
            "align_items": null,
            "align_self": null,
            "border": null,
            "bottom": null,
            "display": null,
            "flex": null,
            "flex_flow": null,
            "grid_area": null,
            "grid_auto_columns": null,
            "grid_auto_flow": null,
            "grid_auto_rows": null,
            "grid_column": null,
            "grid_gap": null,
            "grid_row": null,
            "grid_template_areas": null,
            "grid_template_columns": null,
            "grid_template_rows": null,
            "height": null,
            "justify_content": null,
            "justify_items": null,
            "left": null,
            "margin": null,
            "max_height": null,
            "max_width": null,
            "min_height": null,
            "min_width": null,
            "object_fit": null,
            "object_position": null,
            "order": null,
            "overflow": null,
            "overflow_x": null,
            "overflow_y": null,
            "padding": null,
            "right": null,
            "top": null,
            "visibility": null,
            "width": null
          }
        },
        "fdb2c074dd284178a2e093b0e1f688c5": {
          "model_module": "@jupyter-widgets/controls",
          "model_module_version": "1.5.0",
          "model_name": "ProgressStyleModel",
          "state": {
            "_model_module": "@jupyter-widgets/controls",
            "_model_module_version": "1.5.0",
            "_model_name": "ProgressStyleModel",
            "_view_count": null,
            "_view_module": "@jupyter-widgets/base",
            "_view_module_version": "1.2.0",
            "_view_name": "StyleView",
            "bar_color": null,
            "description_width": ""
          }
        }
      }
    }
  },
  "nbformat": 4,
  "nbformat_minor": 0
}
